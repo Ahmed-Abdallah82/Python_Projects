{
 "cells": [
  {
   "attachments": {},
   "cell_type": "markdown",
   "metadata": {},
   "source": [
    "<h2><b> Beautiful Soup Project </h2></b>"
   ]
  },
  {
   "attachments": {},
   "cell_type": "markdown",
   "metadata": {},
   "source": [
    "This is a web scraping project using Beautiful Soup library. <br>\n",
    "Objective: to retrieve data from \"wuzzuf.net\" with specific search criteria (Data analyst)"
   ]
  },
  {
   "attachments": {},
   "cell_type": "markdown",
   "metadata": {},
   "source": [
    "import modules"
   ]
  },
  {
   "cell_type": "code",
   "execution_count": 164,
   "metadata": {},
   "outputs": [],
   "source": [
    "import requests\n",
    "from bs4 import BeautifulSoup\n",
    "import pandas as pd"
   ]
  },
  {
   "attachments": {},
   "cell_type": "markdown",
   "metadata": {},
   "source": [
    "Use requests to fetch the url"
   ]
  },
  {
   "cell_type": "code",
   "execution_count": 165,
   "metadata": {},
   "outputs": [],
   "source": [
    "result = requests.get(\"https://wuzzuf.net/search/jobs/?q=data+analyst&a=hpb\")"
   ]
  },
  {
   "attachments": {},
   "cell_type": "markdown",
   "metadata": {},
   "source": [
    "Save page content/markup"
   ]
  },
  {
   "cell_type": "code",
   "execution_count": 166,
   "metadata": {},
   "outputs": [],
   "source": [
    "src= result.content\n",
    "#src"
   ]
  },
  {
   "attachments": {},
   "cell_type": "markdown",
   "metadata": {},
   "source": [
    "Create soup object to parse the content"
   ]
  },
  {
   "cell_type": "code",
   "execution_count": 167,
   "metadata": {},
   "outputs": [],
   "source": [
    "soup=BeautifulSoup(src,\"lxml\")\n",
    "#soup"
   ]
  },
  {
   "attachments": {},
   "cell_type": "markdown",
   "metadata": {},
   "source": [
    "Find the elements that contain the needed info:<br>\n",
    "Job title, company name, location, skills, date, job description, and requirements"
   ]
  },
  {
   "cell_type": "code",
   "execution_count": 168,
   "metadata": {},
   "outputs": [],
   "source": [
    "job_titles_html=soup.find_all(\"h2\",{\"class\":\"css-m604qf\"})\n",
    "#job_titles"
   ]
  },
  {
   "cell_type": "code",
   "execution_count": 169,
   "metadata": {},
   "outputs": [],
   "source": [
    "company_names_html=soup.find_all(\"a\",{\"css-17s97q8\"})\n",
    "#company_names"
   ]
  },
  {
   "cell_type": "code",
   "execution_count": 170,
   "metadata": {},
   "outputs": [],
   "source": [
    "locations_html=soup.find_all(\"span\",{\"class\":\"css-5wys0k\"})\n",
    "#locations"
   ]
  },
  {
   "cell_type": "code",
   "execution_count": 171,
   "metadata": {},
   "outputs": [],
   "source": [
    "dates_html=soup.find_all(\"div\", {\"class\":[\"css-do6t5g\",\"css-4c4ojb\"]})\n",
    "#dates_html"
   ]
  },
  {
   "cell_type": "code",
   "execution_count": 172,
   "metadata": {},
   "outputs": [],
   "source": [
    "shift_types_html=soup.find_all(\"span\",{\"class\":\"css-1ve4b75 eoyjyou0\"})\n",
    "#shift_type"
   ]
  },
  {
   "attachments": {},
   "cell_type": "markdown",
   "metadata": {},
   "source": [
    "Loop over returned lists to extract needed info into other lists"
   ]
  },
  {
   "cell_type": "code",
   "execution_count": 173,
   "metadata": {},
   "outputs": [],
   "source": [
    "job_titles_txt=[]\n",
    "company_names_txt=[]\n",
    "locations_txt=[]\n",
    "dates_txt=[]\n",
    "shift_types_txt=[]"
   ]
  },
  {
   "cell_type": "code",
   "execution_count": 174,
   "metadata": {},
   "outputs": [],
   "source": [
    "for i in range(len(dates_html)):\n",
    "    job_titles_txt.append(job_titles_html[i].text)\n",
    "    company_names_txt.append(company_names_html[i].text)\n",
    "    locations_txt.append(locations_html[i].text)\n",
    "    dates_txt.append(dates_html[i].text)\n",
    "    shift_types_txt.append(shift_types_html[i].text)\n"
   ]
  },
  {
   "attachments": {},
   "cell_type": "markdown",
   "metadata": {},
   "source": [
    "Create Dictionary"
   ]
  },
  {
   "cell_type": "code",
   "execution_count": 175,
   "metadata": {},
   "outputs": [],
   "source": [
    "dict1={\"Job Title\":job_titles_txt,\n",
    "       \"Company\":company_names_txt,\n",
    "       \"Location\":locations_txt,\n",
    "       \"Date\":dates_txt,\n",
    "       \"Type\":shift_types_txt}\n",
    "#dict11"
   ]
  },
  {
   "attachments": {},
   "cell_type": "markdown",
   "metadata": {},
   "source": [
    "Create Pandas DataFrame"
   ]
  },
  {
   "cell_type": "code",
   "execution_count": 176,
   "metadata": {},
   "outputs": [
    {
     "data": {
      "text/html": [
       "<div>\n",
       "<style scoped>\n",
       "    .dataframe tbody tr th:only-of-type {\n",
       "        vertical-align: middle;\n",
       "    }\n",
       "\n",
       "    .dataframe tbody tr th {\n",
       "        vertical-align: top;\n",
       "    }\n",
       "\n",
       "    .dataframe thead th {\n",
       "        text-align: right;\n",
       "    }\n",
       "</style>\n",
       "<table border=\"1\" class=\"dataframe\">\n",
       "  <thead>\n",
       "    <tr style=\"text-align: right;\">\n",
       "      <th></th>\n",
       "      <th>Job Title</th>\n",
       "      <th>Company</th>\n",
       "      <th>Location</th>\n",
       "      <th>Date</th>\n",
       "      <th>Type</th>\n",
       "    </tr>\n",
       "  </thead>\n",
       "  <tbody>\n",
       "    <tr>\n",
       "      <th>0</th>\n",
       "      <td>Data Analyst</td>\n",
       "      <td>ITCan -</td>\n",
       "      <td>New Cairo, Cairo, Egypt</td>\n",
       "      <td>13 days ago</td>\n",
       "      <td>Full Time</td>\n",
       "    </tr>\n",
       "    <tr>\n",
       "      <th>1</th>\n",
       "      <td>Data Analyst</td>\n",
       "      <td>London International Patient Services -</td>\n",
       "      <td>Sheraton, Cairo, Egypt</td>\n",
       "      <td>13 days ago</td>\n",
       "      <td>Full Time</td>\n",
       "    </tr>\n",
       "    <tr>\n",
       "      <th>2</th>\n",
       "      <td>Data Analyst</td>\n",
       "      <td>AL-Matar -</td>\n",
       "      <td>Maadi, Cairo, Egypt</td>\n",
       "      <td>12 days ago</td>\n",
       "      <td>Full Time</td>\n",
       "    </tr>\n",
       "    <tr>\n",
       "      <th>3</th>\n",
       "      <td>Data Analyst</td>\n",
       "      <td>Safa International Travel -</td>\n",
       "      <td>Dokki, Giza, Egypt</td>\n",
       "      <td>14 days ago</td>\n",
       "      <td>Full Time</td>\n",
       "    </tr>\n",
       "    <tr>\n",
       "      <th>4</th>\n",
       "      <td>Medical Data Analyst-Private Hospital Background</td>\n",
       "      <td>Confidential -</td>\n",
       "      <td>New Cairo, Cairo, Egypt</td>\n",
       "      <td>5 days ago</td>\n",
       "      <td>Full Time</td>\n",
       "    </tr>\n",
       "    <tr>\n",
       "      <th>5</th>\n",
       "      <td>Senior Data Analyst</td>\n",
       "      <td>Fawry for Banking Technology and Electronic Pa...</td>\n",
       "      <td>Smart Village, Giza, Egypt</td>\n",
       "      <td>20 days ago</td>\n",
       "      <td>Full Time</td>\n",
       "    </tr>\n",
       "    <tr>\n",
       "      <th>6</th>\n",
       "      <td>Electronic Data Interchange (EDI) Analyst (Flu...</td>\n",
       "      <td>FlairsTech -</td>\n",
       "      <td>Cairo, Egypt</td>\n",
       "      <td>15 days ago</td>\n",
       "      <td>Full Time</td>\n",
       "    </tr>\n",
       "    <tr>\n",
       "      <th>7</th>\n",
       "      <td>Data Analyst</td>\n",
       "      <td>Othaim -</td>\n",
       "      <td>Katameya, Cairo, Egypt</td>\n",
       "      <td>22 days ago</td>\n",
       "      <td>Full Time</td>\n",
       "    </tr>\n",
       "    <tr>\n",
       "      <th>8</th>\n",
       "      <td>Data Analyst</td>\n",
       "      <td>Confidential -</td>\n",
       "      <td>Heliopolis, Cairo, Egypt</td>\n",
       "      <td>27 days ago</td>\n",
       "      <td>Full Time</td>\n",
       "    </tr>\n",
       "    <tr>\n",
       "      <th>9</th>\n",
       "      <td>Senior Software Business Analyst / ERP</td>\n",
       "      <td>Our Education -</td>\n",
       "      <td>Nasr City, Cairo, Egypt</td>\n",
       "      <td>1 day ago</td>\n",
       "      <td>Full Time</td>\n",
       "    </tr>\n",
       "    <tr>\n",
       "      <th>10</th>\n",
       "      <td>Data Analyst</td>\n",
       "      <td>Al Ahly capital holding - Al Ahly Tamkeen -</td>\n",
       "      <td>Zamalek, Cairo, Egypt</td>\n",
       "      <td>1 month ago</td>\n",
       "      <td>Full Time</td>\n",
       "    </tr>\n",
       "    <tr>\n",
       "      <th>11</th>\n",
       "      <td>Software Business Analyst</td>\n",
       "      <td>WSC -</td>\n",
       "      <td>Dokki, Giza, Egypt</td>\n",
       "      <td>26 days ago</td>\n",
       "      <td>Full Time</td>\n",
       "    </tr>\n",
       "    <tr>\n",
       "      <th>12</th>\n",
       "      <td>Market Research Analyst</td>\n",
       "      <td>Gap Polymers  -</td>\n",
       "      <td>Maadi, Cairo, Egypt</td>\n",
       "      <td>27 days ago</td>\n",
       "      <td>Full Time</td>\n",
       "    </tr>\n",
       "    <tr>\n",
       "      <th>13</th>\n",
       "      <td>Business analyst</td>\n",
       "      <td>Dawi Clinics -</td>\n",
       "      <td>Maadi, Cairo, Egypt</td>\n",
       "      <td>27 days ago</td>\n",
       "      <td>Full Time</td>\n",
       "    </tr>\n",
       "    <tr>\n",
       "      <th>14</th>\n",
       "      <td>Financial Analyst - Innoventures</td>\n",
       "      <td>Cultiv -</td>\n",
       "      <td>Heliopolis, Cairo, Egypt</td>\n",
       "      <td>28 days ago</td>\n",
       "      <td>Full Time</td>\n",
       "    </tr>\n",
       "  </tbody>\n",
       "</table>\n",
       "</div>"
      ],
      "text/plain": [
       "                                            Job Title  \\\n",
       "0                                        Data Analyst   \n",
       "1                                        Data Analyst   \n",
       "2                                        Data Analyst   \n",
       "3                                        Data Analyst   \n",
       "4    Medical Data Analyst-Private Hospital Background   \n",
       "5                                 Senior Data Analyst   \n",
       "6   Electronic Data Interchange (EDI) Analyst (Flu...   \n",
       "7                                        Data Analyst   \n",
       "8                                        Data Analyst   \n",
       "9              Senior Software Business Analyst / ERP   \n",
       "10                                       Data Analyst   \n",
       "11                          Software Business Analyst   \n",
       "12                            Market Research Analyst   \n",
       "13                                   Business analyst   \n",
       "14                   Financial Analyst - Innoventures   \n",
       "\n",
       "                                              Company  \\\n",
       "0                                             ITCan -   \n",
       "1             London International Patient Services -   \n",
       "2                                          AL-Matar -   \n",
       "3                         Safa International Travel -   \n",
       "4                                      Confidential -   \n",
       "5   Fawry for Banking Technology and Electronic Pa...   \n",
       "6                                        FlairsTech -   \n",
       "7                                            Othaim -   \n",
       "8                                      Confidential -   \n",
       "9                                     Our Education -   \n",
       "10        Al Ahly capital holding - Al Ahly Tamkeen -   \n",
       "11                                              WSC -   \n",
       "12                                    Gap Polymers  -   \n",
       "13                                     Dawi Clinics -   \n",
       "14                                           Cultiv -   \n",
       "\n",
       "                       Location         Date       Type  \n",
       "0      New Cairo, Cairo, Egypt   13 days ago  Full Time  \n",
       "1       Sheraton, Cairo, Egypt   13 days ago  Full Time  \n",
       "2          Maadi, Cairo, Egypt   12 days ago  Full Time  \n",
       "3           Dokki, Giza, Egypt   14 days ago  Full Time  \n",
       "4      New Cairo, Cairo, Egypt    5 days ago  Full Time  \n",
       "5   Smart Village, Giza, Egypt   20 days ago  Full Time  \n",
       "6                 Cairo, Egypt   15 days ago  Full Time  \n",
       "7       Katameya, Cairo, Egypt   22 days ago  Full Time  \n",
       "8     Heliopolis, Cairo, Egypt   27 days ago  Full Time  \n",
       "9      Nasr City, Cairo, Egypt     1 day ago  Full Time  \n",
       "10       Zamalek, Cairo, Egypt   1 month ago  Full Time  \n",
       "11          Dokki, Giza, Egypt   26 days ago  Full Time  \n",
       "12         Maadi, Cairo, Egypt   27 days ago  Full Time  \n",
       "13         Maadi, Cairo, Egypt   27 days ago  Full Time  \n",
       "14    Heliopolis, Cairo, Egypt   28 days ago  Full Time  "
      ]
     },
     "execution_count": 176,
     "metadata": {},
     "output_type": "execute_result"
    }
   ],
   "source": [
    "df=pd.DataFrame(dict1)\n",
    "df"
   ]
  },
  {
   "attachments": {},
   "cell_type": "markdown",
   "metadata": {},
   "source": [
    "Export DataFrame to CSV file"
   ]
  },
  {
   "cell_type": "code",
   "execution_count": 178,
   "metadata": {},
   "outputs": [],
   "source": [
    "df.to_csv(\"jobs.csv\", index=False)"
   ]
  }
 ],
 "metadata": {
  "kernelspec": {
   "display_name": "Python 3",
   "language": "python",
   "name": "python3"
  },
  "language_info": {
   "codemirror_mode": {
    "name": "ipython",
    "version": 3
   },
   "file_extension": ".py",
   "mimetype": "text/x-python",
   "name": "python",
   "nbconvert_exporter": "python",
   "pygments_lexer": "ipython3",
   "version": "3.11.2"
  },
  "orig_nbformat": 4
 },
 "nbformat": 4,
 "nbformat_minor": 2
}
